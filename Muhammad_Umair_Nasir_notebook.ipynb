{
 "cells": [
  {
   "cell_type": "markdown",
   "id": "f3f19f6d",
   "metadata": {},
   "source": [
    "# Technical Interview\n",
    "\n",
    "# Candidate Name: Muhammad Umair Nasir"
   ]
  },
  {
   "cell_type": "markdown",
   "id": "51c10874",
   "metadata": {},
   "source": [
    "## Table of Contents\n",
    "\n",
    "* [Class: DataProcessor](#chapter1)\n",
    "* [Class: Model](#chapter_2)\n",
    "* [Execution of the Pipeline:](#chapter_3)\n",
    "    * [Data Preprocessing and Visualization](#section_3_1)\n",
    "    * [Splitting the dataset](#section_3_2)\n",
    "    * [Model Pipeline and Inference](#section_3_3)\n",
    "* [End Notes](#chapter4)\n",
    "    * [Suggested Improvements](#section_4_1)\n",
    "    * [Deploying Model](#section_4_2)\n",
    "    * [Summary Of Our Implementation](#section_4_3)"
   ]
  },
  {
   "cell_type": "markdown",
   "id": "1e04d001",
   "metadata": {},
   "source": [
    "# --------------------------------------------------------------"
   ]
  },
  {
   "cell_type": "code",
   "execution_count": 116,
   "id": "07fcfe70",
   "metadata": {},
   "outputs": [],
   "source": [
    "import pandas as pd # For data loading\n",
    "import numpy as np # For algebric calculations\n",
    "\n",
    "from collections import Counter # Counter dictionary\n",
    "\n",
    "\n",
    "# Frameworks for data visualization\n",
    "import seaborn as sns\n",
    "import matplotlib.pyplot as plt\n",
    "\n",
    "# Frameworks for model pipeline\n",
    "from sklearn.model_selection import train_test_split\n",
    "from sklearn.feature_extraction.text import TfidfVectorizer\n",
    "from sklearn.metrics import confusion_matrix, classification_report\n",
    "from sklearn.naive_bayes import MultinomialNB\n",
    "\n",
    "# For nlp preprocessing\n",
    "import nltk\n",
    "import re"
   ]
  },
  {
   "cell_type": "markdown",
   "id": "0bcfb6fd",
   "metadata": {},
   "source": [
    "## Class: DataProcessor<a class=\"anchor\" id=\"chapter1\"></a>"
   ]
  },
  {
   "cell_type": "code",
   "execution_count": 117,
   "id": "f174754a",
   "metadata": {},
   "outputs": [],
   "source": [
    "class DataProcessor:\n",
    "    '''\n",
    "    Processes data. Final form is given to the model.\n",
    "    \n",
    "    '''\n",
    "    def __init__(self, path):\n",
    "        \n",
    "        self.path = path\n",
    "    \n",
    "    def data_loader(self):\n",
    "        '''\n",
    "        \n",
    "        Takes path and returns pandas loaded data\n",
    "        \n",
    "        Params:\n",
    "        \n",
    "        Input: \n",
    "        \n",
    "        Path: Path to input data\n",
    "        \n",
    "        Returns:\n",
    "        \n",
    "        Pandas loaded data\n",
    "        '''\n",
    "        data = pd.read_csv(self.path)\n",
    "        \n",
    "        return data \n",
    "    \n",
    "    def data_split(self, input_data, labels, train_ratio, validation_ratio, test_ratio):\n",
    "        \n",
    "        '''\n",
    "        \n",
    "        Takes input data, labels and ratios, and returns splitted data\n",
    "        \n",
    "        Params:\n",
    "        \n",
    "        Input:\n",
    "        \n",
    "        Input_data: Pandas loaded data \n",
    "        Labels: Output labels\n",
    "        Train_ratio: Ratio for training set\n",
    "        Validation_ratio: Ratio for validation set\n",
    "        Test_ratio: Ratio for test set\n",
    "        \n",
    "        Returns:\n",
    "        \n",
    "        Splitted X_train, y_train, X_val, y_val, X_test, y_test\n",
    "        \n",
    "        '''\n",
    "        \n",
    "        X_train, X_test, y_train, y_test = train_test_split(input_data, labels, test_size=1 - train_ratio)\n",
    "        X_val, X_test, y_val, y_test = train_test_split(X_test, y_test, test_size=test_ratio/(test_ratio + validation_ratio)) \n",
    "\n",
    "    \n",
    "        print(\"\\n\")\n",
    "        print(\"Shapes after the split:\")\n",
    "        print(\"\\nx_train shape = \",X_train.shape)\n",
    "        print(\"y_train shape = \",y_train.shape)\n",
    "        print(\"\\nx_val shape = \",X_val.shape)\n",
    "        print(\"y_val shape = \",y_val.shape)\n",
    "        print(\"\\nx_test shape = \",X_test.shape)\n",
    "        print(\"y_test shape = \",y_test.shape)\n",
    "        print('\\n')\n",
    "        \n",
    "        return X_train, y_train, X_val, y_val, X_test, y_test\n",
    "    \n",
    "    def tokenizing(self, data):\n",
    "        \n",
    "        '''\n",
    "        \n",
    "        Takes the data and returns a lower cased and tokenized data\n",
    "        \n",
    "        Params:\n",
    "        \n",
    "        Input: \n",
    "        \n",
    "        data: Input data\n",
    "        \n",
    "        Returns:\n",
    "        \n",
    "        data: Cleaned data\n",
    "        \n",
    "        '''\n",
    "        \n",
    "        tokenizer = nltk.tokenize.WordPunctTokenizer()\n",
    "        \n",
    "        tidy_name = data['dirty_name'].str.lower()\n",
    "        tidy_name = tidy_name.astype('str').apply(tokenizer.tokenize)\n",
    "        \n",
    "\n",
    "        data['Tidy_name'] = tidy_name\n",
    "        \n",
    "        data = data.rename(columns={\"dirty_label\":\"label\"})\n",
    "\n",
    "        print(\"Tokenized names:\")\n",
    "        print(data['Tidy_name'][:5])\n",
    "        \n",
    "        \n",
    "        return data\n",
    "    \n",
    "    def Count_tokens(self, tokenized_data):\n",
    "        \n",
    "        '''\n",
    "        Counts unique tokens\n",
    "        \n",
    "        Params:\n",
    "        \n",
    "        Input:\n",
    "        \n",
    "        data: Tokenized data\n",
    "        \n",
    "        Returns:\n",
    "        \n",
    "        Total unique token counts\n",
    "        \n",
    "        '''\n",
    "        \n",
    "        token_counts = Counter()\n",
    "\n",
    "        for i in range(len(data['Tidy_name'])):\n",
    "            token_counts.update(data['Tidy_name'].iloc[i])\n",
    "        \n",
    "        return token_counts\n",
    "    \n",
    "    def tfidf_vectorizer(self, data):\n",
    "        \n",
    "        '''\n",
    "        \n",
    "        Takes in data and returns tf-idf vectorized features\n",
    "        \n",
    "        Params:\n",
    "        \n",
    "        Input: \n",
    "        \n",
    "        data: Cleaned data\n",
    "        \n",
    "        Returns:\n",
    "        \n",
    "        Vectorized features\n",
    "        \n",
    "        '''\n",
    "        \n",
    "        data['Tidy_name'] = data['Tidy_name'].str.join(\" \") # Joining back with spaces which will be easier for the vectorizer\n",
    "        \n",
    "        # We are hyperparameter tuning the tf-idf vectorizer to atleast get the class 'University' to be predicted\n",
    "        # which has very low number of samples in it.\n",
    "        tfidf = TfidfVectorizer(sublinear_tf=True, min_df=5, norm='l2', ngram_range=(1, 2), stop_words='english')\n",
    "        features = tfidf.fit_transform(data['Tidy_name']).toarray() # Converting to features\n",
    "        \n",
    "        return features\n",
    "    \n",
    "    def char_count(self,regexp=\"\", text=None):\n",
    "        return len(re.findall(regexp, text))\n"
   ]
  },
  {
   "cell_type": "markdown",
   "id": "b14b52d7",
   "metadata": {},
   "source": [
    "# --------------------------------------------------------------\n",
    "\n",
    "## Class: Model <a class=\"anchor\" id=\"chapter2\"></a>"
   ]
  },
  {
   "cell_type": "code",
   "execution_count": 118,
   "id": "11475c12",
   "metadata": {},
   "outputs": [],
   "source": [
    "class model():\n",
    "    \n",
    "    '''\n",
    "    \n",
    "    Processes model pipeline.\n",
    "    '''\n",
    "    \n",
    "    def __init__(self, X_train,y_train):\n",
    "        \n",
    "        self.X_train = X_train\n",
    "        self.y_train = y_train\n",
    "        \n",
    "    \n",
    "    def model_fit(self):\n",
    "        \n",
    "        '''\n",
    "        \n",
    "        Fits and multinomial Naive Bayes\n",
    "        \n",
    "        Params:\n",
    "        \n",
    "        Returns:\n",
    "        \n",
    "        Fitted Multinomial Naive Bayes\n",
    "        \n",
    "        '''\n",
    "        \n",
    "        return MultinomialNB().fit(self.X_train,self.y_train)\n",
    "    \n",
    "    def model_predict(self, model, predict_on):\n",
    "        \n",
    "        '''\n",
    "        \n",
    "        Predicts through the fitted model\n",
    "        \n",
    "        Params:\n",
    "        \n",
    "        Input:\n",
    "        \n",
    "        model: Fitted model\n",
    "        predict_on: Dataset to predict on\n",
    "        \n",
    "        Returns:\n",
    "        \n",
    "        Predictions\n",
    "        \n",
    "        '''\n",
    "        \n",
    "        return model.predict(predict_on)\n",
    "    \n",
    "    def classification_report(self, real, predicted):\n",
    "        \n",
    "        '''\n",
    "        \n",
    "        Prints a classification report which inludes macro and micro precision, recall\n",
    "        and F1 scores. Prints Accuracy as well.\n",
    "        \n",
    "        Params:\n",
    "        \n",
    "        Input:\n",
    "        \n",
    "        real: Values in the available dataset\n",
    "        predicted: Predictions\n",
    "        \n",
    "        Output:\n",
    "        \n",
    "        Prints a classification report.\n",
    "        \n",
    "        '''\n",
    "        \n",
    "        print(\"Classification Report:\")\n",
    "        print(classification_report(real, predicted))\n",
    "        \n",
    "    def confusion_matrix(self, real, predicted):\n",
    "        \n",
    "        '''\n",
    "        \n",
    "        Prints a confusion matrix.\n",
    "        \n",
    "        Params:\n",
    "        \n",
    "        Input:\n",
    "        \n",
    "        real: Values in the available dataset\n",
    "        predicted: Predictions\n",
    "        \n",
    "        Output:\n",
    "        \n",
    "        Prints a confusion matrix.\n",
    "        \n",
    "        '''\n",
    "        \n",
    "        print(\"Confusion Matrix:\")\n",
    "        print(\"The order of classes is as follows:\")\n",
    "        print(np.unique(predicted))\n",
    "        cm1 = confusion_matrix(real, predicted)\n",
    "        fig, ax = plt.subplots(figsize=(10,10))  \n",
    "        sns.heatmap(data = cm1, annot=True, fmt='', cmap = 'icefire', cbar=False)\n",
    "        \n",
    "        \n",
    "        "
   ]
  },
  {
   "cell_type": "markdown",
   "id": "1df1e3bc",
   "metadata": {},
   "source": [
    "# --------------------------------------------------------------"
   ]
  },
  {
   "cell_type": "markdown",
   "id": "c0b500d2",
   "metadata": {},
   "source": [
    "## Execution of the Pipeline <a class=\"anchor\" id=\"chapter3\"></a>\n",
    "\n",
    "#### *As the necessary classes have been made. We will start our execution part.*"
   ]
  },
  {
   "cell_type": "code",
   "execution_count": 119,
   "id": "f22ca7db",
   "metadata": {},
   "outputs": [],
   "source": [
    "PATH = r\"C:\\Work\\data-science-interview\\names_data_candidate.csv\"\n",
    "TRAIN_RATIO = 0.7\n",
    "VAL_RATIO = 0.2\n",
    "TEST_RATIO = 0.1\n"
   ]
  },
  {
   "cell_type": "markdown",
   "id": "ab19f859",
   "metadata": {},
   "source": [
    "### Data Preprocessing and Visualization <a class=\"anchor\" id=\"section_3_1\"></a>"
   ]
  },
  {
   "cell_type": "code",
   "execution_count": 120,
   "id": "7317591b",
   "metadata": {},
   "outputs": [],
   "source": [
    "# Creating a DataProcessor Object\n",
    "\n",
    "dp = DataProcessor(PATH)"
   ]
  },
  {
   "cell_type": "code",
   "execution_count": 121,
   "id": "aa0c1007",
   "metadata": {},
   "outputs": [],
   "source": [
    "# Loading our data\n",
    "\n",
    "data = dp.data_loader()"
   ]
  },
  {
   "cell_type": "code",
   "execution_count": 122,
   "id": "e21044ae",
   "metadata": {
    "scrolled": true
   },
   "outputs": [
    {
     "data": {
      "text/html": [
       "<div>\n",
       "<style scoped>\n",
       "    .dataframe tbody tr th:only-of-type {\n",
       "        vertical-align: middle;\n",
       "    }\n",
       "\n",
       "    .dataframe tbody tr th {\n",
       "        vertical-align: top;\n",
       "    }\n",
       "\n",
       "    .dataframe thead th {\n",
       "        text-align: right;\n",
       "    }\n",
       "</style>\n",
       "<table border=\"1\" class=\"dataframe\">\n",
       "  <thead>\n",
       "    <tr style=\"text-align: right;\">\n",
       "      <th></th>\n",
       "      <th>dirty_name</th>\n",
       "      <th>dirty_label</th>\n",
       "    </tr>\n",
       "  </thead>\n",
       "  <tbody>\n",
       "    <tr>\n",
       "      <th>2767</th>\n",
       "      <td>IVAN BEZUIDENHOUT</td>\n",
       "      <td>Person</td>\n",
       "    </tr>\n",
       "    <tr>\n",
       "      <th>4103</th>\n",
       "      <td>MS karlyn guisby</td>\n",
       "      <td>Person</td>\n",
       "    </tr>\n",
       "    <tr>\n",
       "      <th>353</th>\n",
       "      <td>Amanda Nhlapo</td>\n",
       "      <td>Person</td>\n",
       "    </tr>\n",
       "    <tr>\n",
       "      <th>2586</th>\n",
       "      <td>Rochelle Healthcare</td>\n",
       "      <td>Person</td>\n",
       "    </tr>\n",
       "    <tr>\n",
       "      <th>3413</th>\n",
       "      <td>LYNETTE MAVUSO</td>\n",
       "      <td>Person</td>\n",
       "    </tr>\n",
       "    <tr>\n",
       "      <th>3215</th>\n",
       "      <td>Wendye De Gregoli</td>\n",
       "      <td>Person</td>\n",
       "    </tr>\n",
       "    <tr>\n",
       "      <th>3943</th>\n",
       "      <td>Dr Jason Groenewald</td>\n",
       "      <td>Person</td>\n",
       "    </tr>\n",
       "    <tr>\n",
       "      <th>4322</th>\n",
       "      <td>HEIDI SCHOLTZ</td>\n",
       "      <td>Person</td>\n",
       "    </tr>\n",
       "    <tr>\n",
       "      <th>1689</th>\n",
       "      <td>BELINDA VAN DYK</td>\n",
       "      <td>Person</td>\n",
       "    </tr>\n",
       "    <tr>\n",
       "      <th>276</th>\n",
       "      <td>STRATFORD COLLEGE LONDON</td>\n",
       "      <td>University</td>\n",
       "    </tr>\n",
       "  </tbody>\n",
       "</table>\n",
       "</div>"
      ],
      "text/plain": [
       "                    dirty_name dirty_label\n",
       "2767         IVAN BEZUIDENHOUT      Person\n",
       "4103          MS karlyn guisby      Person\n",
       "353              Amanda Nhlapo      Person\n",
       "2586       Rochelle Healthcare      Person\n",
       "3413            LYNETTE MAVUSO      Person\n",
       "3215         Wendye De Gregoli      Person\n",
       "3943       Dr Jason Groenewald      Person\n",
       "4322             HEIDI SCHOLTZ      Person\n",
       "1689           BELINDA VAN DYK      Person\n",
       "276   STRATFORD COLLEGE LONDON  University"
      ]
     },
     "execution_count": 122,
     "metadata": {},
     "output_type": "execute_result"
    }
   ],
   "source": [
    "data.sample(10)"
   ]
  },
  {
   "cell_type": "code",
   "execution_count": 123,
   "id": "3a5b4efd",
   "metadata": {
    "scrolled": false
   },
   "outputs": [
    {
     "data": {
      "image/png": "[encoded data removed]",
      "text/plain": [
       "<Figure size 720x720 with 1 Axes>"
      ]
     },
     "metadata": {
      "needs_background": "light"
     },
     "output_type": "display_data"
    }
   ],
   "source": [
    "# A peak into the distribution of classes\n",
    "\n",
    "fig,ax = plt.subplots(figsize=(10,10))\n",
    "sns.countplot(x=\"dirty_label\", data=data, ax=ax)\n",
    "plt.show()"
   ]
  },
  {
   "cell_type": "markdown",
   "id": "8aa16620",
   "metadata": {},
   "source": [
    "#### Let's look if the data has any null values"
   ]
  },
  {
   "cell_type": "code",
   "execution_count": 124,
   "id": "1d2786a0",
   "metadata": {},
   "outputs": [
    {
     "name": "stdout",
     "output_type": "stream",
     "text": [
      "<class 'pandas.core.frame.DataFrame'>\n",
      "RangeIndex: 4520 entries, 0 to 4519\n",
      "Data columns (total 2 columns):\n",
      " #   Column       Non-Null Count  Dtype \n",
      "---  ------       --------------  ----- \n",
      " 0   dirty_name   4520 non-null   object\n",
      " 1   dirty_label  4520 non-null   object\n",
      "dtypes: object(2)\n",
      "memory usage: 70.8+ KB\n"
     ]
    }
   ],
   "source": [
    "data.info()"
   ]
  },
  {
   "cell_type": "markdown",
   "id": "27e3457d",
   "metadata": {},
   "source": [
    "#### *Looks like there is no null values.*"
   ]
  },
  {
   "cell_type": "code",
   "execution_count": 125,
   "id": "553d8145",
   "metadata": {},
   "outputs": [
    {
     "data": {
      "image/png": "[encoded data removed]",
      "text/plain": [
       "<Figure size 720x720 with 1 Axes>"
      ]
     },
     "metadata": {
      "needs_background": "light"
     },
     "output_type": "display_data"
    }
   ],
   "source": [
    "avg_seq_len = []\n",
    "for i in range(len(data)):\n",
    "    avg_seq_len.append(dp.char_count(text=data['dirty_name'].loc[i]))\n",
    "\n",
    "fig,ax = plt.subplots(figsize=(10,10))\n",
    "sns.histplot(data = avg_seq_len,ax=ax)\n",
    "plt.show()"
   ]
  },
  {
   "cell_type": "markdown",
   "id": "65739590",
   "metadata": {},
   "source": [
    "#### *We can see the average length of a name of any category is around 20.*"
   ]
  },
  {
   "cell_type": "markdown",
   "id": "acbcd54b",
   "metadata": {},
   "source": [
    "#### *We are going to work with a skewed data.*"
   ]
  },
  {
   "cell_type": "code",
   "execution_count": 126,
   "id": "18a8c228",
   "metadata": {},
   "outputs": [
    {
     "name": "stdout",
     "output_type": "stream",
     "text": [
      "Tokenized names:\n",
      "0             [wright, pentlow]\n",
      "1          [ms, sydney, hadebe]\n",
      "2    [prof, ., hennie, vorster]\n",
      "3              [enrica, hayter]\n",
      "4               [teboho, ngema]\n",
      "Name: Tidy_name, dtype: object\n"
     ]
    }
   ],
   "source": [
    "# Cleaning the code\n",
    "\n",
    "tokenized_data = dp.tokenizing(data)"
   ]
  },
  {
   "cell_type": "markdown",
   "id": "9eb1d48e",
   "metadata": {},
   "source": [
    "#### *We are going to let the labels stay the same as they seem right to work on.*"
   ]
  },
  {
   "cell_type": "markdown",
   "id": "398fef75",
   "metadata": {},
   "source": [
    "#### *We are also going to look at the unique token lengths.*"
   ]
  },
  {
   "cell_type": "code",
   "execution_count": 127,
   "id": "53996a55",
   "metadata": {},
   "outputs": [],
   "source": [
    "token_counts = dp.Count_tokens(tokenized_data) # Counting token lengths"
   ]
  },
  {
   "cell_type": "code",
   "execution_count": 128,
   "id": "a578cbda",
   "metadata": {},
   "outputs": [
    {
     "name": "stdout",
     "output_type": "stream",
     "text": [
      "Total unique tokens : 4991\n",
      "('.', 1087)\n",
      "('dr', 346)\n",
      "('miss', 275)\n",
      "('mr', 239)\n",
      "('mrs', 225)\n",
      "...\n",
      "('josebury', 1)\n",
      "('duff', 1)\n",
      "('forre', 1)\n"
     ]
    }
   ],
   "source": [
    "print(\"Total unique tokens :\", len(token_counts))\n",
    "print('\\n'.join(map(str, token_counts.most_common(n=5))))\n",
    "print('...')\n",
    "print('\\n'.join(map(str, token_counts.most_common()[-3:])))"
   ]
  },
  {
   "cell_type": "markdown",
   "id": "7eb69fd2",
   "metadata": {},
   "source": [
    "#### *So far the data makes sense. We have skewed data towards 'Person' class and the most numbers of tokens are '.', 'dr' and 'miss' as '.' is used with any prefix and prefixes with Person name are on the top.*"
   ]
  },
  {
   "cell_type": "code",
   "execution_count": 129,
   "id": "814335c0",
   "metadata": {},
   "outputs": [
    {
     "name": "stdout",
     "output_type": "stream",
     "text": [
      "Number of punctuation mark occurance:\n",
      ", : 4\n",
      ". : 1087\n",
      "! : 0\n",
      "- : 17\n",
      "_ : 0\n",
      "' : 21\n",
      "\" : 0\n",
      "! : 0\n",
      "/ : 0\n",
      "( : 36\n",
      ") : 30\n"
     ]
    }
   ],
   "source": [
    "punct = [',','.','!','-','_',\"'\",'\"','!','/','(',')']\n",
    "print(\"Number of punctuation mark occurance:\")\n",
    "for p in punct:\n",
    "    print('%s : %d' % (p, token_counts[p]))"
   ]
  },
  {
   "cell_type": "markdown",
   "id": "315b4043",
   "metadata": {},
   "source": [
    "#### *We can observe that there are quite a few punctuation marks which are necessary in a name.*"
   ]
  },
  {
   "cell_type": "code",
   "execution_count": 130,
   "id": "11abb8f2",
   "metadata": {},
   "outputs": [
    {
     "data": {
      "image/png": "[encoded data removed]",
      "text/plain": [
       "<Figure size 720x720 with 1 Axes>"
      ]
     },
     "metadata": {
      "needs_background": "light"
     },
     "output_type": "display_data"
    }
   ],
   "source": [
    "# A look into number of counts as histograms\n",
    "fig,ax = plt.subplots(1,1,figsize=(10,10))\n",
    "ax.hist(list(token_counts.values()), range=[0, 10**2], bins=50, log=True)\n",
    "plt.xlabel(\"Word counts\");"
   ]
  },
  {
   "cell_type": "markdown",
   "id": "6822af6c",
   "metadata": {},
   "source": [
    "#### *After getting clean data we progress to extracting features to give to our model. We will be using tf-idf vectorizer over Bag-of-Words or Word2Vec. Bag of Words just creates a set of vectors containing the count of word occurrences, while the TF-IDF model contains information on the more important words and the less important ones as well. Word2Vec may get more information which could be more useful if we use a neural network which are better with more information.*"
   ]
  },
  {
   "cell_type": "code",
   "execution_count": 131,
   "id": "16ce587a",
   "metadata": {},
   "outputs": [],
   "source": [
    "features = dp.tfidf_vectorizer(tokenized_data) # Extracting features through tf-idf vectorizer"
   ]
  },
  {
   "cell_type": "markdown",
   "id": "9288fee8",
   "metadata": {},
   "source": [
    "### Splitting the dataset <a class=\"anchor\" id=\"section_3_2\"></a>"
   ]
  },
  {
   "cell_type": "markdown",
   "id": "0e4f6358",
   "metadata": {},
   "source": [
    "#### *We have the features and now we will split our dataset into training, validation and test sets.*"
   ]
  },
  {
   "cell_type": "code",
   "execution_count": 132,
   "id": "65716199",
   "metadata": {},
   "outputs": [
    {
     "name": "stdout",
     "output_type": "stream",
     "text": [
      "\n",
      "\n",
      "Shapes after the split:\n",
      "\n",
      "x_train shape =  (3163, 545)\n",
      "y_train shape =  (3163,)\n",
      "\n",
      "x_val shape =  (904, 545)\n",
      "y_val shape =  (904,)\n",
      "\n",
      "x_test shape =  (453, 545)\n",
      "y_test shape =  (453,)\n",
      "\n",
      "\n"
     ]
    }
   ],
   "source": [
    "X_train, y_train, X_val, y_val, X_test, y_test = dp.data_split(features, tokenized_data['label'], TRAIN_RATIO, \\\n",
    "                                                               VAL_RATIO, TEST_RATIO) # Splitting data"
   ]
  },
  {
   "cell_type": "markdown",
   "id": "e3130f67",
   "metadata": {},
   "source": [
    "### Model Pipeline and Inference <a class=\"anchor\" id=\"section_3_3\"></a>"
   ]
  },
  {
   "cell_type": "markdown",
   "id": "c57094b1",
   "metadata": {},
   "source": [
    "#### *Now we will define the model and give features. We choose a shallow machine leaning model over deep learning model because we do not have very large dataset. Even our sequence length of one sample is very small. So intuitively we choose a shallow machine learning model, which in turn gave us a very good result.*\n",
    "\n",
    "#### *We choose Naive Bayes because of the reason that it is a generative model so intuitively we could say that it may work better, in our case where data is less, than a descriminative model, such as Random Forest. If we had more data we would go for a Neural Network, which is a descriminative model.*"
   ]
  },
  {
   "cell_type": "code",
   "execution_count": 133,
   "id": "8d8fddcc",
   "metadata": {},
   "outputs": [],
   "source": [
    "NBmodel = model(X_train, y_train) # Defining model object\n",
    "model = NBmodel.model_fit() # Fitting Multinomial Naive Bayes\n",
    "predicted = NBmodel.model_predict(model,X_val) # Predicting on the validation"
   ]
  },
  {
   "cell_type": "code",
   "execution_count": 134,
   "id": "76107010",
   "metadata": {},
   "outputs": [
    {
     "name": "stdout",
     "output_type": "stream",
     "text": [
      "Classification Report:\n",
      "              precision    recall  f1-score   support\n",
      "\n",
      "     Company       0.91      0.52      0.66       159\n",
      "      Person       0.90      0.99      0.94       729\n",
      "  University       0.93      0.81      0.87        16\n",
      "\n",
      "    accuracy                           0.90       904\n",
      "   macro avg       0.91      0.77      0.82       904\n",
      "weighted avg       0.90      0.90      0.89       904\n",
      "\n"
     ]
    }
   ],
   "source": [
    "NBmodel.classification_report(y_val,predicted) # Getting classification report"
   ]
  },
  {
   "cell_type": "markdown",
   "id": "bca031b9",
   "metadata": {},
   "source": [
    "#### *We can notice how well the Multinomial Naive Bayes is working. This is a base Naive Bayes with Tf-idf tuned to such extent that would predict the smallest class. A suitable improvement would be to test other algorithms such as Support Vector Machine and Random Forrest.* "
   ]
  },
  {
   "cell_type": "code",
   "execution_count": 135,
   "id": "9cd8d6c7",
   "metadata": {},
   "outputs": [
    {
     "name": "stdout",
     "output_type": "stream",
     "text": [
      "Confusion Matrix:\n",
      "The order of classes is as follows:\n",
      "['Company' 'Person' 'University']\n"
     ]
    },
    {
     "data": {
      "image/png": "[encoded data removed]",
      "text/plain": [
       "<Figure size 720x720 with 1 Axes>"
      ]
     },
     "metadata": {
      "needs_background": "light"
     },
     "output_type": "display_data"
    }
   ],
   "source": [
    "NBmodel.confusion_matrix(y_val,predicted)"
   ]
  },
  {
   "cell_type": "markdown",
   "id": "4dffcd8b",
   "metadata": {},
   "source": [
    "#### *Confusion matrix explain that the more the data the better it will perform. Person class will have more veriety of words which explains why the other classes are misclassifying as a person.*\n"
   ]
  },
  {
   "cell_type": "code",
   "execution_count": 136,
   "id": "a5de49a9",
   "metadata": {},
   "outputs": [
    {
     "name": "stdout",
     "output_type": "stream",
     "text": [
      "Classification Report:\n",
      "              precision    recall  f1-score   support\n",
      "\n",
      "     Company       0.97      0.44      0.61        77\n",
      "      Person       0.90      1.00      0.94       372\n",
      "  University       1.00      1.00      1.00         4\n",
      "\n",
      "    accuracy                           0.90       453\n",
      "   macro avg       0.96      0.81      0.85       453\n",
      "weighted avg       0.91      0.90      0.89       453\n",
      "\n"
     ]
    }
   ],
   "source": [
    "# Prediction on test set:\n",
    "\n",
    "pred_test = NBmodel.model_predict(model,X_test)\n",
    "NBmodel.classification_report(y_test,pred_test)"
   ]
  },
  {
   "cell_type": "code",
   "execution_count": 137,
   "id": "31831d9c",
   "metadata": {},
   "outputs": [
    {
     "name": "stdout",
     "output_type": "stream",
     "text": [
      "Confusion Matrix:\n",
      "The order of classes is as follows:\n",
      "['Company' 'Person' 'University']\n"
     ]
    },
    {
     "data": {
      "image/png": "[encoded data removed]",
      "text/plain": [
       "<Figure size 720x720 with 1 Axes>"
      ]
     },
     "metadata": {
      "needs_background": "light"
     },
     "output_type": "display_data"
    }
   ],
   "source": [
    "NBmodel.confusion_matrix(y_test,pred_test)"
   ]
  },
  {
   "cell_type": "markdown",
   "id": "2b8a50cc",
   "metadata": {},
   "source": [
    "#### *A better score than validation? This is probably due to the face that both sets are from same distribution and gone through same preprocessing steps. An improvement would be to gather an unlabelled data to test our model.*"
   ]
  },
  {
   "cell_type": "markdown",
   "id": "698ae409",
   "metadata": {},
   "source": [
    "# --------------------------------------------------------------"
   ]
  },
  {
   "cell_type": "markdown",
   "id": "0d1f673d",
   "metadata": {},
   "source": [
    "## End Notes <a class=\"anchor\" id=\"chapter4\"></a>"
   ]
  },
  {
   "cell_type": "markdown",
   "id": "62b0ce18",
   "metadata": {},
   "source": [
    "### Suggested Improvements<a class=\"anchor\" id=\"section_4_1\"></a>"
   ]
  },
  {
   "cell_type": "markdown",
   "id": "1f15eaab",
   "metadata": {},
   "source": [
    "#### 1. *Collection of more data will help build a better model. Specially Collecting the data for the classes having less sample.*\n",
    "#### 2. *Using Word2Vec or FastText for feature extraction.*\n",
    "#### 3. *Using pre-trained Neural Netrworks would help.*\n",
    "#### 4. *Prediction on unlabbelled data will provide more confidence on the model.*"
   ]
  },
  {
   "cell_type": "markdown",
   "id": "a8f058dc",
   "metadata": {},
   "source": [
    "### Deploying Model<a class=\"anchor\" id=\"section_4_2\"></a>"
   ]
  },
  {
   "cell_type": "markdown",
   "id": "2b47807e",
   "metadata": {},
   "source": [
    "#### *We will use Amazon SageMaker to Deploy our model. Steps required would be:*\n",
    "\n",
    "#### 1. *Creating an AmazonSageMaker notebook instance then selecting the jupyter notebook.*\n",
    "#### 2. *Preporcessing the data, using a bucket to store the data and then training the model.*\n",
    "#### 3. *Deploying and evaluating the model.*"
   ]
  },
  {
   "cell_type": "markdown",
   "id": "46c2b06b",
   "metadata": {},
   "source": [
    "### Summary Of Our Implementation <a class=\"anchor\" id=\"section_4_3\"></a>"
   ]
  },
  {
   "cell_type": "markdown",
   "id": "b65e76df",
   "metadata": {},
   "source": [
    "#### *We have implemented A Name Classifier using Naive Bayes. We have created two classes to use data processing and the model in a neat way. Data preprocessing is done by lower casing and tokenizing the \"dirty_name\" column and creating a \"Tidy_name column for the cleaned data. To visualize, we counted our tokens to know the length of each token. We didnot exclude the stopwords as it seemed to be a distinction between the class with lowest samples, i.e, \"University\". Once we had the clean data we extracted features using \"Tf-idf\" vectorizer. Once We have the features we split our dataset into training, validation and test set by 0.7,0.2 and 0.1 percentage respectively. Then we give the deatures to our Multinomial Naive Bayes. Which then predicts on the test set.*"
   ]
  },
  {
   "cell_type": "markdown",
   "id": "f45046e4",
   "metadata": {},
   "source": [
    "# ----------------------------------END OF THE NOTEBOOK-------------------------------------"
   ]
  }
 ],
 "metadata": {
  "kernelspec": {
   "display_name": "Python 3 (ipykernel)",
   "language": "python",
   "name": "python3"
  },
  "language_info": {
   "codemirror_mode": {
    "name": "ipython",
    "version": 3
   },
   "file_extension": ".py",
   "mimetype": "text/x-python",
   "name": "python",
   "nbconvert_exporter": "python",
   "pygments_lexer": "ipython3",
   "version": "3.8.11"
  }
 },
 "nbformat": 4,
 "nbformat_minor": 5
}
